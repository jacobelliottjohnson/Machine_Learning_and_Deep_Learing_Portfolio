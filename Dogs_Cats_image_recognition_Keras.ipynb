{
  "nbformat": 4,
  "nbformat_minor": 0,
  "metadata": {
    "colab": {
      "name": "Dogs_Cats_image_recognition_Keras.ipynb",
      "provenance": [],
      "toc_visible": true
    },
    "kernelspec": {
      "name": "python3",
      "display_name": "Python 3"
    },
    "accelerator": "GPU"
  },
  "cells": [
    {
      "cell_type": "markdown",
      "metadata": {
        "id": "qTh9DiKVslsJ"
      },
      "source": [
        "## Dogs vs. Cats Image Recognition With Keras\n",
        "\n"
      ]
    },
    {
      "cell_type": "code",
      "metadata": {
        "id": "YmXSOc0tZIGA",
        "colab": {
          "base_uri": "https://localhost:8080/"
        },
        "outputId": "4eee76ec-397e-45fb-9364-3b479ddc32e4"
      },
      "source": [
        "import os\n",
        "os.environ['KAGGLE_USERNAME'] = \"jacobelliottjohnson\" # username from the json file\n",
        "os.environ['KAGGLE_KEY'] = \"444f552438192e4c3d42a030ff43fedf\" # key from the json file\n",
        "!kaggle competitions download -c dogs-vs-cats # api copied from kaggle (https://www.kaggle.com/c/dogs-vs-cats/data)"
      ],
      "execution_count": null,
      "outputs": [
        {
          "output_type": "stream",
          "text": [
            "Warning: Looks like you're using an outdated API Version, please consider updating (server 1.5.12 / client 1.5.4)\n",
            "Downloading sampleSubmission.csv to /content\n",
            "  0% 0.00/86.8k [00:00<?, ?B/s]\n",
            "100% 86.8k/86.8k [00:00<00:00, 27.5MB/s]\n",
            "Downloading test1.zip to /content\n",
            " 95% 257M/271M [00:03<00:00, 71.4MB/s]\n",
            "100% 271M/271M [00:03<00:00, 84.3MB/s]\n",
            "Downloading train.zip to /content\n",
            " 99% 537M/543M [00:03<00:00, 201MB/s]\n",
            "100% 543M/543M [00:03<00:00, 150MB/s]\n"
          ],
          "name": "stdout"
        }
      ]
    },
    {
      "cell_type": "code",
      "metadata": {
        "id": "PiwIL8d1n7eS",
        "colab": {
          "base_uri": "https://localhost:8080/"
        },
        "outputId": "f2177e28-5c9a-4b60-e8f5-56aeff1d1996"
      },
      "source": [
        "# Unzip training data\n",
        "from zipfile import ZipFile\n",
        "file_name = \"/content/train.zip\"\n",
        "with ZipFile(file_name, 'r') as zip:\n",
        "  zip.extractall()\n",
        "  print('done')"
      ],
      "execution_count": null,
      "outputs": [
        {
          "output_type": "stream",
          "text": [
            "done\n"
          ],
          "name": "stdout"
        }
      ]
    },
    {
      "cell_type": "code",
      "metadata": {
        "id": "sa2Bj5i7pPKV",
        "colab": {
          "base_uri": "https://localhost:8080/"
        },
        "outputId": "3b4bc045-314e-4f7d-99cc-96e606345f54"
      },
      "source": [
        "# Get all the paths\n",
        "data_dir_list = os.listdir('/content/train')\n",
        "#print(data_dir_list)\n",
        "path, dirs, files = next(os.walk(\"/content/train\"))\n",
        "file_count = len(files)\n",
        "print(file_count)"
      ],
      "execution_count": null,
      "outputs": [
        {
          "output_type": "stream",
          "text": [
            "25000\n"
          ],
          "name": "stdout"
        }
      ]
    },
    {
      "cell_type": "code",
      "metadata": {
        "id": "0ERlHkfHqpK8"
      },
      "source": [
        "# Make new base directory\n",
        "original_dataset_dir = '/content/train'\n",
        "base_dir = '/content/cats_and_dogs_small'\n",
        "os.mkdir(base_dir)"
      ],
      "execution_count": null,
      "outputs": []
    },
    {
      "cell_type": "code",
      "metadata": {
        "id": "AANB1UJ6rQhM"
      },
      "source": [
        "train_dir = os.path.join(base_dir, 'train')\n",
        "os.mkdir(train_dir)\n",
        "\n",
        "validation_dir = os.path.join(base_dir, 'validation')\n",
        "os.mkdir(validation_dir)\n",
        "\n",
        "test_dir = os.path.join(base_dir, 'test')\n",
        "os.mkdir(test_dir)\n",
        "\n",
        "train_cats_dir = os.path.join(train_dir, 'cats')\n",
        "os.mkdir(train_cats_dir)\n",
        "\n",
        "train_dogs_dir = os.path.join(train_dir, 'dogs')\n",
        "os.mkdir(train_dogs_dir)\n",
        "\n",
        "validation_cats_dir = os.path.join(validation_dir, 'cats')\n",
        "os.mkdir(validation_cats_dir)\n",
        "\n",
        "validation_dogs_dir = os.path.join(validation_dir, 'dogs')\n",
        "os.mkdir(validation_dogs_dir)\n",
        "\n",
        "test_cats_dir = os.path.join(test_dir, 'cats')\n",
        "os.mkdir(test_cats_dir)\n",
        "\n",
        "test_dogs_dir = os.path.join(test_dir, 'dogs')\n",
        "os.mkdir(test_dogs_dir)"
      ],
      "execution_count": null,
      "outputs": []
    },
    {
      "cell_type": "code",
      "metadata": {
        "id": "ULRgL9s9rV8T"
      },
      "source": [
        "import shutil\n",
        "fnames = ['cat.{}.jpg'.format(i) for i in range(1000)]\n",
        "for fname in fnames:\n",
        "    src = os.path.join(original_dataset_dir, fname)\n",
        "    dst = os.path.join(train_cats_dir, fname)\n",
        "    #print(src,dst)\n",
        "    shutil.copyfile(src, dst)\n",
        "    \n",
        "fnames = ['cat.{}.jpg'.format(i) for i in range(1000, 1500)]\n",
        "for fname in fnames:\n",
        "    src = os.path.join(original_dataset_dir, fname)\n",
        "    dst = os.path.join(validation_cats_dir, fname)\n",
        "    shutil.copyfile(src, dst)\n",
        "\n",
        "fnames = ['cat.{}.jpg'.format(i) for i in range(1500, 2000)]\n",
        "for fname in fnames:\n",
        "    src = os.path.join(original_dataset_dir, fname)\n",
        "    dst = os.path.join(test_cats_dir, fname)\n",
        "    shutil.copyfile(src, dst)\n",
        "    \n",
        "fnames = ['dog.{}.jpg'.format(i) for i in range(1000)]\n",
        "for fname in fnames:\n",
        "    src = os.path.join(original_dataset_dir, fname)\n",
        "    dst = os.path.join(train_dogs_dir, fname)\n",
        "    shutil.copyfile(src, dst)\n",
        "\n",
        "fnames = ['dog.{}.jpg'.format(i) for i in range(1000, 1500)]\n",
        "for fname in fnames:\n",
        "    src = os.path.join(original_dataset_dir, fname)\n",
        "    dst = os.path.join(validation_dogs_dir, fname)\n",
        "    shutil.copyfile(src, dst)\n",
        "\n",
        "fnames = ['dog.{}.jpg'.format(i) for i in range(1500, 2000)]\n",
        "for fname in fnames:\n",
        "    src = os.path.join(original_dataset_dir, fname)\n",
        "    dst = os.path.join(test_dogs_dir, fname)\n",
        "    shutil.copyfile(src, dst)"
      ],
      "execution_count": null,
      "outputs": []
    },
    {
      "cell_type": "code",
      "metadata": {
        "id": "ul3XAbIyr7vC",
        "colab": {
          "base_uri": "https://localhost:8080/"
        },
        "outputId": "4bb56a7f-5a47-45be-c738-50cc0babbe25"
      },
      "source": [
        "print('total training cat images:', len(os.listdir(train_cats_dir)))\n",
        "print('total training dog images:', len(os.listdir(train_dogs_dir)))\n",
        "print('total validation cat images:', len(os.listdir(validation_cats_dir)))\n",
        "\n",
        "print('total validation dog images:', len(os.listdir(validation_dogs_dir)))\n",
        "print('total test cat images:', len(os.listdir(test_cats_dir)))\n",
        "print('total test dog images:', len(os.listdir(test_dogs_dir)))"
      ],
      "execution_count": null,
      "outputs": [
        {
          "output_type": "stream",
          "text": [
            "total training cat images: 1000\n",
            "total training dog images: 1000\n",
            "total validation cat images: 500\n",
            "total validation dog images: 500\n",
            "total test cat images: 500\n",
            "total test dog images: 500\n"
          ],
          "name": "stdout"
        }
      ]
    },
    {
      "cell_type": "code",
      "metadata": {
        "id": "o9yTA21_r-ma",
        "colab": {
          "base_uri": "https://localhost:8080/"
        },
        "outputId": "049f063c-3fd1-4174-a0e2-d90c2d20752f"
      },
      "source": [
        "from keras import layers\n",
        "from keras import models\n",
        "\n",
        "model = models.Sequential()\n",
        "model.add(layers.Conv2D(32, (3, 3), activation='relu', input_shape=(150, 150, 3)))\n",
        "model.add(layers.MaxPooling2D((2, 2)))\n",
        "model.add(layers.Conv2D(64, (3, 3), activation='relu'))\n",
        "model.add(layers.MaxPooling2D((2, 2)))\n",
        "model.add(layers.Conv2D(128, (3, 3), activation='relu'))\n",
        "model.add(layers.MaxPooling2D((2, 2)))\n",
        "model.add(layers.Conv2D(128, (3, 3), activation='relu'))\n",
        "model.add(layers.MaxPooling2D((2, 2)))\n",
        "model.add(layers.Flatten())\n",
        "model.add(layers.Dense(512, activation='relu'))\n",
        "model.add(layers.Dense(1, activation='sigmoid'))\n",
        "model.summary()"
      ],
      "execution_count": null,
      "outputs": [
        {
          "output_type": "stream",
          "text": [
            "Model: \"sequential\"\n",
            "_________________________________________________________________\n",
            "Layer (type)                 Output Shape              Param #   \n",
            "=================================================================\n",
            "conv2d (Conv2D)              (None, 148, 148, 32)      896       \n",
            "_________________________________________________________________\n",
            "max_pooling2d (MaxPooling2D) (None, 74, 74, 32)        0         \n",
            "_________________________________________________________________\n",
            "conv2d_1 (Conv2D)            (None, 72, 72, 64)        18496     \n",
            "_________________________________________________________________\n",
            "max_pooling2d_1 (MaxPooling2 (None, 36, 36, 64)        0         \n",
            "_________________________________________________________________\n",
            "conv2d_2 (Conv2D)            (None, 34, 34, 128)       73856     \n",
            "_________________________________________________________________\n",
            "max_pooling2d_2 (MaxPooling2 (None, 17, 17, 128)       0         \n",
            "_________________________________________________________________\n",
            "conv2d_3 (Conv2D)            (None, 15, 15, 128)       147584    \n",
            "_________________________________________________________________\n",
            "max_pooling2d_3 (MaxPooling2 (None, 7, 7, 128)         0         \n",
            "_________________________________________________________________\n",
            "flatten (Flatten)            (None, 6272)              0         \n",
            "_________________________________________________________________\n",
            "dense (Dense)                (None, 512)               3211776   \n",
            "_________________________________________________________________\n",
            "dense_1 (Dense)              (None, 1)                 513       \n",
            "=================================================================\n",
            "Total params: 3,453,121\n",
            "Trainable params: 3,453,121\n",
            "Non-trainable params: 0\n",
            "_________________________________________________________________\n"
          ],
          "name": "stdout"
        }
      ]
    },
    {
      "cell_type": "code",
      "metadata": {
        "id": "2mG8wekxsBVS"
      },
      "source": [
        "from keras import optimizers\n",
        "model.compile(loss='binary_crossentropy', \n",
        "              optimizer=optimizers.RMSprop(lr=1e-4),\n",
        "              metrics=['acc'])"
      ],
      "execution_count": null,
      "outputs": []
    },
    {
      "cell_type": "code",
      "metadata": {
        "id": "XJ7XU7t9sEh6",
        "colab": {
          "base_uri": "https://localhost:8080/"
        },
        "outputId": "eaaf241c-419a-4c3c-eac4-2d54339cb98c"
      },
      "source": [
        "from keras.preprocessing.image import ImageDataGenerator\n",
        "\n",
        "train_datagen = ImageDataGenerator(rescale=1./255)\n",
        "test_datagen = ImageDataGenerator(rescale=1./255)\n",
        "\n",
        "train_generator = train_datagen.flow_from_directory(train_dir,\n",
        "                                                    target_size=(150, 150), \n",
        "                                                    batch_size=20,\n",
        "                                                    class_mode='binary')\n",
        "\n",
        "validation_generator = test_datagen.flow_from_directory(validation_dir,\n",
        "                                                        target_size=(150, 150),\n",
        "                                                        batch_size=20,\n",
        "                                                        class_mode='binary')"
      ],
      "execution_count": null,
      "outputs": [
        {
          "output_type": "stream",
          "text": [
            "Found 2000 images belonging to 2 classes.\n",
            "Found 1000 images belonging to 2 classes.\n"
          ],
          "name": "stdout"
        }
      ]
    },
    {
      "cell_type": "code",
      "metadata": {
        "id": "yMyfPphJsJG6",
        "colab": {
          "base_uri": "https://localhost:8080/"
        },
        "outputId": "b8209ae8-e8e4-49e0-920b-aa7b67570389"
      },
      "source": [
        "history = model.fit_generator(train_generator,\n",
        "                              steps_per_epoch=100,\n",
        "                              epochs=30,\n",
        "                              validation_data=validation_generator,\n",
        "                              validation_steps=10)"
      ],
      "execution_count": null,
      "outputs": [
        {
          "output_type": "stream",
          "text": [
            "/usr/local/lib/python3.7/dist-packages/tensorflow/python/keras/engine/training.py:1844: UserWarning: `Model.fit_generator` is deprecated and will be removed in a future version. Please use `Model.fit`, which supports generators.\n",
            "  warnings.warn('`Model.fit_generator` is deprecated and '\n"
          ],
          "name": "stderr"
        },
        {
          "output_type": "stream",
          "text": [
            "Epoch 1/30\n",
            "100/100 [==============================] - 23s 65ms/step - loss: 0.6906 - acc: 0.5199 - val_loss: 0.6930 - val_acc: 0.4750\n",
            "Epoch 2/30\n",
            "100/100 [==============================] - 6s 61ms/step - loss: 0.6707 - acc: 0.5823 - val_loss: 0.7301 - val_acc: 0.4850\n",
            "Epoch 3/30\n",
            "100/100 [==============================] - 6s 61ms/step - loss: 0.6298 - acc: 0.6461 - val_loss: 0.6117 - val_acc: 0.6350\n",
            "Epoch 4/30\n",
            "100/100 [==============================] - 6s 61ms/step - loss: 0.5835 - acc: 0.6894 - val_loss: 0.6558 - val_acc: 0.5750\n",
            "Epoch 5/30\n",
            "100/100 [==============================] - 6s 60ms/step - loss: 0.5459 - acc: 0.7207 - val_loss: 0.5576 - val_acc: 0.6900\n",
            "Epoch 6/30\n",
            "100/100 [==============================] - 6s 60ms/step - loss: 0.5355 - acc: 0.7152 - val_loss: 0.5994 - val_acc: 0.7200\n",
            "Epoch 7/30\n",
            "100/100 [==============================] - 6s 60ms/step - loss: 0.4875 - acc: 0.7649 - val_loss: 0.6626 - val_acc: 0.6550\n",
            "Epoch 8/30\n",
            "100/100 [==============================] - 6s 60ms/step - loss: 0.4701 - acc: 0.7802 - val_loss: 0.5706 - val_acc: 0.6850\n",
            "Epoch 9/30\n",
            "100/100 [==============================] - 6s 61ms/step - loss: 0.4483 - acc: 0.7962 - val_loss: 0.5619 - val_acc: 0.7050\n",
            "Epoch 10/30\n",
            "100/100 [==============================] - 6s 61ms/step - loss: 0.4102 - acc: 0.8148 - val_loss: 0.6137 - val_acc: 0.6550\n",
            "Epoch 11/30\n",
            "100/100 [==============================] - 6s 61ms/step - loss: 0.4035 - acc: 0.8234 - val_loss: 0.5976 - val_acc: 0.6850\n",
            "Epoch 12/30\n",
            "100/100 [==============================] - 6s 60ms/step - loss: 0.3635 - acc: 0.8374 - val_loss: 0.5952 - val_acc: 0.7150\n",
            "Epoch 13/30\n",
            "100/100 [==============================] - 6s 60ms/step - loss: 0.3453 - acc: 0.8571 - val_loss: 0.5328 - val_acc: 0.7400\n",
            "Epoch 14/30\n",
            "100/100 [==============================] - 6s 61ms/step - loss: 0.3121 - acc: 0.8756 - val_loss: 0.5626 - val_acc: 0.7350\n",
            "Epoch 15/30\n",
            "100/100 [==============================] - 6s 60ms/step - loss: 0.3022 - acc: 0.8821 - val_loss: 0.5629 - val_acc: 0.7300\n",
            "Epoch 16/30\n",
            "100/100 [==============================] - 6s 61ms/step - loss: 0.2838 - acc: 0.8769 - val_loss: 0.4713 - val_acc: 0.8000\n",
            "Epoch 17/30\n",
            "100/100 [==============================] - 6s 61ms/step - loss: 0.2422 - acc: 0.9108 - val_loss: 0.6948 - val_acc: 0.6850\n",
            "Epoch 18/30\n",
            "100/100 [==============================] - 6s 60ms/step - loss: 0.2160 - acc: 0.9144 - val_loss: 0.6611 - val_acc: 0.7500\n",
            "Epoch 19/30\n",
            "100/100 [==============================] - 6s 60ms/step - loss: 0.1917 - acc: 0.9341 - val_loss: 0.6326 - val_acc: 0.7400\n",
            "Epoch 20/30\n",
            "100/100 [==============================] - 6s 60ms/step - loss: 0.1827 - acc: 0.9343 - val_loss: 0.6089 - val_acc: 0.7300\n",
            "Epoch 21/30\n",
            "100/100 [==============================] - 6s 61ms/step - loss: 0.1574 - acc: 0.9423 - val_loss: 0.7688 - val_acc: 0.7250\n",
            "Epoch 22/30\n",
            "100/100 [==============================] - 6s 61ms/step - loss: 0.1557 - acc: 0.9451 - val_loss: 0.7781 - val_acc: 0.7000\n",
            "Epoch 23/30\n",
            "100/100 [==============================] - 6s 61ms/step - loss: 0.1372 - acc: 0.9504 - val_loss: 0.9915 - val_acc: 0.6950\n",
            "Epoch 24/30\n",
            "100/100 [==============================] - 6s 60ms/step - loss: 0.1197 - acc: 0.9653 - val_loss: 0.7726 - val_acc: 0.7250\n",
            "Epoch 25/30\n",
            "100/100 [==============================] - 6s 59ms/step - loss: 0.0923 - acc: 0.9736 - val_loss: 0.7521 - val_acc: 0.7300\n",
            "Epoch 26/30\n",
            "100/100 [==============================] - 6s 60ms/step - loss: 0.0702 - acc: 0.9811 - val_loss: 0.8146 - val_acc: 0.7200\n",
            "Epoch 27/30\n",
            "100/100 [==============================] - 6s 60ms/step - loss: 0.0708 - acc: 0.9762 - val_loss: 0.8055 - val_acc: 0.7550\n",
            "Epoch 28/30\n",
            "100/100 [==============================] - 6s 60ms/step - loss: 0.0607 - acc: 0.9885 - val_loss: 0.7698 - val_acc: 0.7450\n",
            "Epoch 29/30\n",
            "100/100 [==============================] - 6s 60ms/step - loss: 0.0492 - acc: 0.9857 - val_loss: 0.8453 - val_acc: 0.7500\n",
            "Epoch 30/30\n",
            "100/100 [==============================] - 6s 61ms/step - loss: 0.0420 - acc: 0.9885 - val_loss: 1.1738 - val_acc: 0.7000\n"
          ],
          "name": "stdout"
        }
      ]
    },
    {
      "cell_type": "code",
      "metadata": {
        "id": "MZaZ2HWZsNUi",
        "colab": {
          "base_uri": "https://localhost:8080/",
          "height": 545
        },
        "outputId": "72084e68-967d-4bae-b89d-7e85feb14eee"
      },
      "source": [
        "model.save('cats_and_dogs_small_1.h5')\n",
        "\n",
        "import matplotlib.pyplot as plt\n",
        "\n",
        "acc = history.history['acc']\n",
        "val_acc = history.history['val_acc']\n",
        "loss = history.history['loss']\n",
        "val_loss = history.history['val_loss']\n",
        "\n",
        "epochs = range(1, len(acc) + 1)\n",
        "\n",
        "plt.plot(epochs, acc, 'bo', label='Training acc')\n",
        "plt.plot(epochs, val_acc, 'b', label='Validation acc')\n",
        "plt.title('Training and validation accuracy')\n",
        "plt.legend()\n",
        "\n",
        "plt.figure()\n",
        "\n",
        "plt.plot(epochs, loss, 'bo', label='Training loss')\n",
        "plt.plot(epochs, val_loss, 'b', label='Validation loss')\n",
        "plt.title('Training and validation loss')\n",
        "plt.legend()\n",
        "\n",
        "plt.show()"
      ],
      "execution_count": null,
      "outputs": [
        {
          "output_type": "display_data",
          "data": {
            "image/png": "[encoded data removed]",
            "text/plain": [
              "<Figure size 432x288 with 1 Axes>"
            ]
          },
          "metadata": {
            "tags": [],
            "needs_background": "light"
          }
        },
        {
          "output_type": "display_data",
          "data": {
            "image/png": "[encoded data removed]",
            "text/plain": [
              "<Figure size 432x288 with 1 Axes>"
            ]
          },
          "metadata": {
            "tags": [],
            "needs_background": "light"
          }
        }
      ]
    },
    {
      "cell_type": "code",
      "metadata": {
        "id": "wu3cqeYQrDeN"
      },
      "source": [
        "model = models.Sequential()\n",
        "model.add(layers.Conv2D(32, (3, 3), activation='relu',\n",
        "input_shape=(150, 150, 3)))\n",
        "model.add(layers.MaxPooling2D((2, 2)))\n",
        "model.add(layers.Conv2D(64, (3, 3), activation='relu'))\n",
        "model.add(layers.MaxPooling2D((2, 2)))\n",
        "model.add(layers.Conv2D(128, (3, 3), activation='relu'))\n",
        "model.add(layers.MaxPooling2D((2, 2)))\n",
        "model.add(layers.Conv2D(128, (3, 3), activation='relu'))\n",
        "model.add(layers.MaxPooling2D((2, 2)))\n",
        "model.add(layers.Flatten())\n",
        "model.add(layers.Dropout(0.5))\n",
        "model.add(layers.Dense(1024, activation='relu'))\n",
        "model.add(layers.Dropout(0.5))\n",
        "model.add(layers.Dense(512, activation='relu'))\n",
        "model.add(layers.Dense(1, activation='sigmoid'))\n",
        "\n",
        "model.compile(loss='binary_crossentropy',\n",
        "              optimizer=optimizers.RMSprop(lr=1e-4),\n",
        "              metrics=['acc'])"
      ],
      "execution_count": null,
      "outputs": []
    },
    {
      "cell_type": "code",
      "metadata": {
        "id": "QSeLpvY0rH7F",
        "colab": {
          "base_uri": "https://localhost:8080/"
        },
        "outputId": "5859039c-0f32-47d8-bc0f-7d80694bd430"
      },
      "source": [
        "\n",
        "train_datagen = ImageDataGenerator(rescale=1./255,\n",
        "                                   rotation_range=40,\n",
        "                                   width_shift_range=0.2,\n",
        "                                   height_shift_range=0.2,\n",
        "                                   shear_range=0.2,\n",
        "                                   zoom_range=0.2,\n",
        "                                   horizontal_flip=True,)\n",
        "\n",
        "test_datagen = ImageDataGenerator(rescale=1./255)\n",
        "\n",
        "train_generator = train_datagen.flow_from_directory(train_dir,\n",
        "                                                    target_size=(150, 150),\n",
        "                                                    batch_size=20,\n",
        "                                                    class_mode='binary')\n",
        "\n",
        "validation_generator = test_datagen.flow_from_directory(validation_dir,\n",
        "                                                        target_size=(150, 150),\n",
        "                                                        batch_size=20,\n",
        "                                                        class_mode='binary')\n",
        "\n",
        "history = model.fit_generator(train_generator,\n",
        "                              steps_per_epoch=100,\n",
        "                              epochs=25,\n",
        "                              validation_data=validation_generator,\n",
        "                              validation_steps=50)"
      ],
      "execution_count": null,
      "outputs": [
        {
          "output_type": "stream",
          "text": [
            "Found 2000 images belonging to 2 classes.\n",
            "Found 1000 images belonging to 2 classes.\n"
          ],
          "name": "stdout"
        },
        {
          "output_type": "stream",
          "text": [
            "/usr/local/lib/python3.7/dist-packages/tensorflow/python/keras/engine/training.py:1844: UserWarning: `Model.fit_generator` is deprecated and will be removed in a future version. Please use `Model.fit`, which supports generators.\n",
            "  warnings.warn('`Model.fit_generator` is deprecated and '\n"
          ],
          "name": "stderr"
        },
        {
          "output_type": "stream",
          "text": [
            "Epoch 1/25\n",
            "100/100 [==============================] - 17s 165ms/step - loss: 0.6983 - acc: 0.4760 - val_loss: 0.6895 - val_acc: 0.5000\n",
            "Epoch 2/25\n",
            "100/100 [==============================] - 16s 163ms/step - loss: 0.6939 - acc: 0.5073 - val_loss: 0.6942 - val_acc: 0.5020\n",
            "Epoch 3/25\n",
            "100/100 [==============================] - 16s 161ms/step - loss: 0.6904 - acc: 0.5318 - val_loss: 0.6748 - val_acc: 0.5910\n",
            "Epoch 4/25\n",
            "100/100 [==============================] - 16s 162ms/step - loss: 0.6837 - acc: 0.5579 - val_loss: 0.6618 - val_acc: 0.5950\n",
            "Epoch 5/25\n",
            "100/100 [==============================] - 16s 161ms/step - loss: 0.6720 - acc: 0.5831 - val_loss: 0.6579 - val_acc: 0.6230\n",
            "Epoch 6/25\n",
            "100/100 [==============================] - 16s 163ms/step - loss: 0.6611 - acc: 0.6084 - val_loss: 0.6743 - val_acc: 0.5850\n",
            "Epoch 7/25\n",
            "100/100 [==============================] - 16s 162ms/step - loss: 0.6596 - acc: 0.6031 - val_loss: 0.6153 - val_acc: 0.6680\n",
            "Epoch 8/25\n",
            "100/100 [==============================] - 16s 162ms/step - loss: 0.6318 - acc: 0.6468 - val_loss: 0.6944 - val_acc: 0.5780\n",
            "Epoch 9/25\n",
            "100/100 [==============================] - 16s 162ms/step - loss: 0.6275 - acc: 0.6473 - val_loss: 0.6133 - val_acc: 0.6560\n",
            "Epoch 10/25\n",
            "100/100 [==============================] - 16s 162ms/step - loss: 0.5999 - acc: 0.6717 - val_loss: 0.6324 - val_acc: 0.6290\n",
            "Epoch 11/25\n",
            "100/100 [==============================] - 16s 162ms/step - loss: 0.6077 - acc: 0.6627 - val_loss: 0.5759 - val_acc: 0.6800\n",
            "Epoch 12/25\n",
            "100/100 [==============================] - 16s 162ms/step - loss: 0.6044 - acc: 0.6790 - val_loss: 0.5924 - val_acc: 0.6870\n",
            "Epoch 13/25\n",
            "100/100 [==============================] - 16s 162ms/step - loss: 0.5734 - acc: 0.7104 - val_loss: 0.5623 - val_acc: 0.7060\n",
            "Epoch 14/25\n",
            "100/100 [==============================] - 16s 163ms/step - loss: 0.5953 - acc: 0.6788 - val_loss: 0.5529 - val_acc: 0.7250\n",
            "Epoch 15/25\n",
            "100/100 [==============================] - 16s 162ms/step - loss: 0.5821 - acc: 0.6954 - val_loss: 0.6038 - val_acc: 0.6780\n",
            "Epoch 16/25\n",
            "100/100 [==============================] - 16s 163ms/step - loss: 0.5762 - acc: 0.7081 - val_loss: 0.5326 - val_acc: 0.7140\n",
            "Epoch 17/25\n",
            "100/100 [==============================] - 16s 163ms/step - loss: 0.5599 - acc: 0.7217 - val_loss: 0.5469 - val_acc: 0.7240\n",
            "Epoch 18/25\n",
            "100/100 [==============================] - 16s 162ms/step - loss: 0.5725 - acc: 0.7018 - val_loss: 0.5128 - val_acc: 0.7400\n",
            "Epoch 19/25\n",
            "100/100 [==============================] - 16s 161ms/step - loss: 0.5629 - acc: 0.7176 - val_loss: 0.5708 - val_acc: 0.7030\n",
            "Epoch 20/25\n",
            "100/100 [==============================] - 16s 163ms/step - loss: 0.5633 - acc: 0.7135 - val_loss: 0.5076 - val_acc: 0.7410\n",
            "Epoch 21/25\n",
            "100/100 [==============================] - 16s 164ms/step - loss: 0.5373 - acc: 0.7279 - val_loss: 0.7095 - val_acc: 0.6530\n",
            "Epoch 22/25\n",
            "100/100 [==============================] - 16s 164ms/step - loss: 0.5590 - acc: 0.7193 - val_loss: 0.4968 - val_acc: 0.7560\n",
            "Epoch 23/25\n",
            "100/100 [==============================] - 16s 163ms/step - loss: 0.5389 - acc: 0.7320 - val_loss: 0.5204 - val_acc: 0.7450\n",
            "Epoch 24/25\n",
            "100/100 [==============================] - 16s 164ms/step - loss: 0.5407 - acc: 0.7359 - val_loss: 0.5074 - val_acc: 0.7540\n",
            "Epoch 25/25\n",
            "100/100 [==============================] - 16s 165ms/step - loss: 0.5451 - acc: 0.7183 - val_loss: 0.5162 - val_acc: 0.7510\n"
          ],
          "name": "stdout"
        }
      ]
    }
  ]
}